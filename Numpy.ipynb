{
 "cells": [
  {
   "cell_type": "markdown",
   "metadata": {
    "id": "fro_DHmGSWN9"
   },
   "source": [
    "# <center><u>Numpy</u></center>"
   ]
  },
  {
   "cell_type": "markdown",
   "metadata": {
    "id": "ieFqGOBDSWOB"
   },
   "source": [
    "# Numpy Basics\n",
    "Welcome to section of Numpy. This is the one of the most used Python libraries for data science. NumPy consists of a powerful data structure called multidimensional arrays.\n",
    "\n",
    "NumPy is a library written for scientific computing and data analysis. It stands for numerical python and also known as array oriented computing.\n",
    "\n",
    "The most basic object in NumPy is the ndarray, or simply an array which is an n-dimensional, homogeneous array. By homogenous, we mean that all the elements in a NumPy array have to be of the same data type, which is commonly numeric (float or integer).\n",
    "\n",
    "\n",
    " # Why Numpy?\n",
    " convenience & speed\n",
    " \n",
    "Numpy is much faster than the standard python ways to do computations.\n",
    " \n",
    "Vectorised code typically does not contain explicit looping and indexing etc. (all of this happens behind the scenes, in precompiled C-code), and thus it is much more concise.\n",
    "\n",
    "Also, many Numpy operations are implemented in C which is basically being executed behind the scenes, avoiding the general cost of loops in Python, pointer indirection and per-element dynamic type checking. The speed boost depends on which operations you're performing.\n",
    " \n",
    " NumPy arrays are more compact than lists, i.e. they take much lesser storage space than lists"
   ]
  },
  {
   "cell_type": "markdown",
   "metadata": {
    "id": "ERM80WVFSWOC"
   },
   "source": [
    "## 1. Variable Declarartion\n",
    "\n",
    "Reference:-https://www.youtube.com/watch?v=Y_nVWb9bcHY"
   ]
  },
  {
   "cell_type": "markdown",
   "metadata": {
    "id": "C-i_hyUhSWOC"
   },
   "source": [
    "<p style='text-align: right;'> 5 points</p>"
   ]
  },
  {
   "cell_type": "code",
   "execution_count": null,
   "metadata": {
    "id": "Lo9T3Bo6SWOC"
   },
   "outputs": [],
   "source": [
    "# Import numpy using alias np\n",
    "\n"
   ]
  },
  {
   "cell_type": "code",
   "execution_count": null,
   "metadata": {
    "id": "OXb5OTGSSWOD"
   },
   "outputs": [],
   "source": [
    "# create a numpy array 'a' with elements 1,2,3\n",
    "# create a two dimensional array 'b' with elements(1,2,3) and (4,5,6)\n",
    "\n"
   ]
  },
  {
   "cell_type": "code",
   "execution_count": null,
   "metadata": {
    "id": "F1IfYGEDSWOD",
    "outputId": "c62bbb8a-ae4e-4009-a2c0-ad8bfbd203bd"
   },
   "outputs": [
    {
     "name": "stdout",
     "output_type": "stream",
     "text": [
      "[1 2 3]\n",
      "[[1 2 3]\n",
      " [4 5 6]]\n"
     ]
    }
   ],
   "source": [
    "# print the values of a and b\n"
   ]
  },
  {
   "cell_type": "markdown",
   "metadata": {
    "id": "9Tf97-Q2SWOE"
   },
   "source": [
    "Print shape of both a and b"
   ]
  },
  {
   "cell_type": "code",
   "execution_count": null,
   "metadata": {
    "id": "DOFaNvKiSWOE",
    "outputId": "3015c7dd-4783-4aac-f8b7-7e534d58224d"
   },
   "outputs": [
    {
     "name": "stdout",
     "output_type": "stream",
     "text": [
      "(3,)\n",
      "(2, 3)\n"
     ]
    }
   ],
   "source": [
    "# your code here\n",
    "\n"
   ]
  },
  {
   "cell_type": "markdown",
   "metadata": {
    "id": "epLeVaMvSWOE"
   },
   "source": [
    "Print the data types of a and b"
   ]
  },
  {
   "cell_type": "code",
   "execution_count": null,
   "metadata": {
    "id": "x7kOdjxnSWOE",
    "outputId": "32667223-3671-4d56-baa2-9f182cb24aa8"
   },
   "outputs": [
    {
     "name": "stdout",
     "output_type": "stream",
     "text": [
      "<class 'numpy.ndarray'>\n",
      "<class 'numpy.ndarray'>\n"
     ]
    }
   ],
   "source": []
  },
  {
   "cell_type": "markdown",
   "metadata": {
    "id": "hB3guK7nSWOF"
   },
   "source": [
    "## 2. Add, remove elements and Memory Sharing\n",
    "\n",
    "Reference:- https://www.youtube.com/watch?v=dEnCfapUbEw<br>\n",
    "            https://www.youtube.com/watch?v=17vysCjwjxc"
   ]
  },
  {
   "cell_type": "markdown",
   "metadata": {
    "id": "KEMsKc5QSWOF"
   },
   "source": [
    "<p style='text-align: right;'> 10 points</p>\n"
   ]
  },
  {
   "cell_type": "markdown",
   "metadata": {
    "id": "iq-qMAE3SWOF"
   },
   "source": [
    "Declare x = np.array([ 5,10, 20, 12, 3])"
   ]
  },
  {
   "cell_type": "code",
   "execution_count": null,
   "metadata": {
    "id": "BSopvdheSWOF"
   },
   "outputs": [],
   "source": [
    "# declare x \n",
    "x = #your code here\n"
   ]
  },
  {
   "cell_type": "markdown",
   "metadata": {
    "id": "aY7KR7KsSWOF"
   },
   "source": [
    "Add a new element 1 at the end of x"
   ]
  },
  {
   "cell_type": "code",
   "execution_count": null,
   "metadata": {
    "id": "2tfWNnNjSWOF",
    "outputId": "be66b0c3-2b2a-45ca-e17b-bea77cd85dea"
   },
   "outputs": [
    {
     "name": "stdout",
     "output_type": "stream",
     "text": [
      "[ 5 10 20 12  3  1]\n"
     ]
    }
   ],
   "source": [
    "# your code here\n",
    "\n",
    "\n",
    "print(x) # check if 1 is added "
   ]
  },
  {
   "cell_type": "markdown",
   "metadata": {
    "id": "3DND_QDzSWOG"
   },
   "source": [
    "Delete the second element of x \n"
   ]
  },
  {
   "cell_type": "code",
   "execution_count": null,
   "metadata": {
    "id": "ohz4xOs-SWOG",
    "outputId": "4f1f8dd6-3d1e-4a9c-c376-f145071ca10c"
   },
   "outputs": [
    {
     "name": "stdout",
     "output_type": "stream",
     "text": [
      "[ 5 20 12  3  1]\n"
     ]
    }
   ],
   "source": [
    "# your code here \n",
    "\n",
    "print(x) # check if the second element has been deleted"
   ]
  },
  {
   "cell_type": "markdown",
   "metadata": {
    "id": "xrJy6hwkSWOG"
   },
   "source": [
    "Set y = x\n"
   ]
  },
  {
   "cell_type": "code",
   "execution_count": null,
   "metadata": {
    "id": "ellUvpjQSWOG"
   },
   "outputs": [],
   "source": []
  },
  {
   "cell_type": "markdown",
   "metadata": {
    "id": "utVR1BPFSWOG"
   },
   "source": [
    "Set the first element y =  1\n"
   ]
  },
  {
   "cell_type": "code",
   "execution_count": null,
   "metadata": {
    "id": "W3Etxg-4SWOG",
    "outputId": "be1290fa-1e23-452d-ccab-56eacab17523"
   },
   "outputs": [
    {
     "name": "stdout",
     "output_type": "stream",
     "text": [
      "[ 1 20 12  3  1]\n"
     ]
    }
   ],
   "source": [
    "# set first element of y to be 1\n",
    "\n",
    "print(y)"
   ]
  },
  {
   "cell_type": "markdown",
   "metadata": {
    "id": "9OW37aLaSWOG"
   },
   "source": [
    "Print x and y\n",
    "\n"
   ]
  },
  {
   "cell_type": "code",
   "execution_count": null,
   "metadata": {
    "id": "1oL46MJMSWOH",
    "outputId": "64d0fd3a-17a2-4a94-ce80-336649051660"
   },
   "outputs": [
    {
     "name": "stdout",
     "output_type": "stream",
     "text": [
      "[ 1 20 12  3  1]\n",
      "[ 1 20 12  3  1]\n"
     ]
    }
   ],
   "source": [
    "\n"
   ]
  },
  {
   "cell_type": "markdown",
   "metadata": {
    "id": "CIPTxgWFSWOH"
   },
   "source": [
    "<b>you modified y, OMG!! but why x is also affected? Just give a try to answer this quest below </b>"
   ]
  },
  {
   "cell_type": "code",
   "execution_count": null,
   "metadata": {
    "id": "oPkG37XaSWOH"
   },
   "outputs": [],
   "source": [
    "# write in commented form or markdown format"
   ]
  },
  {
   "cell_type": "markdown",
   "metadata": {
    "id": "_oTBIhKxSWOH"
   },
   "source": [
    "Set z = np.copy(x)\n"
   ]
  },
  {
   "cell_type": "code",
   "execution_count": null,
   "metadata": {
    "id": "KFtUd43qSWOH"
   },
   "outputs": [],
   "source": [
    "z = #your code here\n"
   ]
  },
  {
   "cell_type": "markdown",
   "metadata": {
    "id": "ZHHOF_PpSWOH"
   },
   "source": [
    "Set the first element of y as 100\n"
   ]
  },
  {
   "cell_type": "code",
   "execution_count": null,
   "metadata": {
    "id": "lg2V8SQFSWOH"
   },
   "outputs": [],
   "source": []
  },
  {
   "cell_type": "markdown",
   "metadata": {
    "id": "uWp9yWfiSWOH"
   },
   "source": [
    "print x and z to see if there is any change in x."
   ]
  },
  {
   "cell_type": "code",
   "execution_count": null,
   "metadata": {
    "id": "HIzO2gYOSWOH",
    "outputId": "143dd4d8-9fe8-480a-dc3d-cfc64a87515e"
   },
   "outputs": [
    {
     "name": "stdout",
     "output_type": "stream",
     "text": [
      "[ 1 20 12  3  1]\n",
      "[100  20  12   3   1]\n"
     ]
    }
   ],
   "source": []
  },
  {
   "cell_type": "markdown",
   "metadata": {
    "id": "AAkmdDdqSWOH"
   },
   "source": [
    "<b>Hey the above output seems so interesting!!. When used copy function the changes did not affect on x. Can you Guess why ?<b>"
   ]
  },
  {
   "cell_type": "code",
   "execution_count": null,
   "metadata": {
    "id": "ytmnq5WtSWOH"
   },
   "outputs": [],
   "source": [
    "# write here "
   ]
  },
  {
   "cell_type": "markdown",
   "metadata": {
    "id": "yPgBLrnFSWOI"
   },
   "source": [
    "## 4. Using various Numpy Functions.\n",
    "\n",
    "Reference:- https://www.youtube.com/watch?v=HL-nfSG6F2I\n"
   ]
  },
  {
   "cell_type": "markdown",
   "metadata": {
    "id": "fOJ0LS7MSWOI"
   },
   "source": [
    "<p style='text-align: right;'> 8*2 = 16 points</p>\n"
   ]
  },
  {
   "cell_type": "markdown",
   "metadata": {
    "id": "E4fdgsjtSWOI"
   },
   "source": [
    "Create a numpy array containing numbers from 1 to 12"
   ]
  },
  {
   "cell_type": "code",
   "execution_count": null,
   "metadata": {
    "id": "F3DXMPB5SWOI",
    "outputId": "56889710-7b53-40de-8f31-2801df4582d3"
   },
   "outputs": [
    {
     "name": "stdout",
     "output_type": "stream",
     "text": [
      "[ 1  2  3  4  5  6  7  8  9 10 11 12]\n"
     ]
    }
   ],
   "source": [
    "# x = #your code here \n",
    "\n",
    "print(x)"
   ]
  },
  {
   "cell_type": "markdown",
   "metadata": {
    "id": "OkH7ueRXSWOI"
   },
   "source": [
    "Create a numpy array containing even numbers between 1 to 20\n",
    "\n",
    "\n"
   ]
  },
  {
   "cell_type": "code",
   "execution_count": null,
   "metadata": {
    "id": "uJ7QgXWDSWOI",
    "outputId": "0426764c-6b7d-4b5d-89ea-573da5d09f7d"
   },
   "outputs": [
    {
     "data": {
      "text/plain": [
       "array([ 2,  4,  6,  8, 10, 12, 14, 16, 18, 20])"
      ]
     },
     "execution_count": 167,
     "metadata": {
      "tags": []
     },
     "output_type": "execute_result"
    }
   ],
   "source": []
  },
  {
   "cell_type": "markdown",
   "metadata": {
    "id": "yAqZCZXTSWOI"
   },
   "source": [
    "Create an array of 2 rows and 2 columns containing all zeros.\n",
    "\n",
    "\n"
   ]
  },
  {
   "cell_type": "code",
   "execution_count": null,
   "metadata": {
    "id": "I9cFX4vISWOI",
    "outputId": "34c2ab85-ef66-4af0-8622-fed4c13aafbc"
   },
   "outputs": [
    {
     "data": {
      "text/plain": [
       "array([[0., 0.],\n",
       "       [0., 0.]])"
      ]
     },
     "execution_count": 168,
     "metadata": {
      "tags": []
     },
     "output_type": "execute_result"
    }
   ],
   "source": []
  },
  {
   "cell_type": "markdown",
   "metadata": {
    "id": "8sHg-qqSSWOI"
   },
   "source": [
    "Create a matrix containing 3 rows and 2 columns where all the values are 1.\n",
    "\n",
    "\n"
   ]
  },
  {
   "cell_type": "code",
   "execution_count": null,
   "metadata": {
    "id": "4nnolJ8ISWOI",
    "outputId": "d993c3ea-1f7f-4297-b224-a597a38b1d9a"
   },
   "outputs": [
    {
     "data": {
      "text/plain": [
       "array([[1., 1.],\n",
       "       [1., 1.],\n",
       "       [1., 1.]])"
      ]
     },
     "execution_count": 169,
     "metadata": {
      "tags": []
     },
     "output_type": "execute_result"
    }
   ],
   "source": []
  },
  {
   "cell_type": "markdown",
   "metadata": {
    "id": "dF9f7EUNSWOJ"
   },
   "source": [
    "Create a matrix of size 5x5 where all are diagonal elements are 1, rest being 0."
   ]
  },
  {
   "cell_type": "code",
   "execution_count": null,
   "metadata": {
    "id": "FMvyqIM8SWOJ",
    "outputId": "351af8f4-286a-4a3d-dc05-230621e03502"
   },
   "outputs": [
    {
     "data": {
      "text/plain": [
       "array([[1., 0., 0., 0., 0.],\n",
       "       [0., 1., 0., 0., 0.],\n",
       "       [0., 0., 1., 0., 0.],\n",
       "       [0., 0., 0., 1., 0.],\n",
       "       [0., 0., 0., 0., 1.]])"
      ]
     },
     "execution_count": 170,
     "metadata": {
      "tags": []
     },
     "output_type": "execute_result"
    }
   ],
   "source": []
  },
  {
   "cell_type": "markdown",
   "metadata": {
    "id": "jT5IIBQOSWOJ"
   },
   "source": [
    "Create a matrix of size 4x2 where all the elements are 4\n",
    "\n",
    "\n"
   ]
  },
  {
   "cell_type": "code",
   "execution_count": null,
   "metadata": {
    "id": "_eHI61uSSWOJ",
    "outputId": "04b230cb-2cd8-481d-9fd9-199118b94606"
   },
   "outputs": [
    {
     "data": {
      "text/plain": [
       "array([[4, 4],\n",
       "       [4, 4],\n",
       "       [4, 4],\n",
       "       [4, 4]])"
      ]
     },
     "execution_count": 171,
     "metadata": {
      "tags": []
     },
     "output_type": "execute_result"
    }
   ],
   "source": []
  },
  {
   "cell_type": "markdown",
   "metadata": {
    "id": "l6ePELShSWOJ"
   },
   "source": [
    "Create a matrix where diagonal elements are [1 , 2, 3, 4, 5] and rest are zero\n",
    "\n",
    "\n"
   ]
  },
  {
   "cell_type": "code",
   "execution_count": null,
   "metadata": {
    "id": "hQlsHGLRSWOJ",
    "outputId": "934ced9a-9672-463b-d1a3-ca0391a9b73e"
   },
   "outputs": [
    {
     "data": {
      "text/plain": [
       "array([[1, 0, 0, 0, 0],\n",
       "       [0, 2, 0, 0, 0],\n",
       "       [0, 0, 3, 0, 0],\n",
       "       [0, 0, 0, 4, 0],\n",
       "       [0, 0, 0, 0, 5]])"
      ]
     },
     "execution_count": 172,
     "metadata": {
      "tags": []
     },
     "output_type": "execute_result"
    }
   ],
   "source": []
  },
  {
   "cell_type": "markdown",
   "metadata": {
    "id": "Z_eNn67uSWOJ"
   },
   "source": [
    "Create a matrix of size 3x3 which contains random numbers from 0 to 1.\n",
    "\n",
    "\n"
   ]
  },
  {
   "cell_type": "code",
   "execution_count": null,
   "metadata": {
    "id": "YED-cMWrSWOJ",
    "outputId": "490bc7dd-0b32-42a4-a24e-f5634b6bd36a"
   },
   "outputs": [
    {
     "data": {
      "text/plain": [
       "array([[0.0543848 , 0.27263345, 0.36196624],\n",
       "       [0.96421013, 0.55076457, 0.33637611],\n",
       "       [0.08703552, 0.55070306, 0.61533377]])"
      ]
     },
     "execution_count": 173,
     "metadata": {
      "tags": []
     },
     "output_type": "execute_result"
    }
   ],
   "source": []
  },
  {
   "cell_type": "markdown",
   "metadata": {
    "id": "be-OlUyaSWOJ"
   },
   "source": [
    "Create a numpy array of shape (50,) such that it contains evenly spaced numbers, from 1 to 20."
   ]
  },
  {
   "cell_type": "code",
   "execution_count": null,
   "metadata": {
    "id": "k80nLFv9SWOJ",
    "outputId": "0272b82e-103a-476c-ee5c-f16e1396caa2"
   },
   "outputs": [
    {
     "data": {
      "text/plain": [
       "array([ 1.        ,  1.3877551 ,  1.7755102 ,  2.16326531,  2.55102041,\n",
       "        2.93877551,  3.32653061,  3.71428571,  4.10204082,  4.48979592,\n",
       "        4.87755102,  5.26530612,  5.65306122,  6.04081633,  6.42857143,\n",
       "        6.81632653,  7.20408163,  7.59183673,  7.97959184,  8.36734694,\n",
       "        8.75510204,  9.14285714,  9.53061224,  9.91836735, 10.30612245,\n",
       "       10.69387755, 11.08163265, 11.46938776, 11.85714286, 12.24489796,\n",
       "       12.63265306, 13.02040816, 13.40816327, 13.79591837, 14.18367347,\n",
       "       14.57142857, 14.95918367, 15.34693878, 15.73469388, 16.12244898,\n",
       "       16.51020408, 16.89795918, 17.28571429, 17.67346939, 18.06122449,\n",
       "       18.44897959, 18.83673469, 19.2244898 , 19.6122449 , 20.        ])"
      ]
     },
     "execution_count": 174,
     "metadata": {
      "tags": []
     },
     "output_type": "execute_result"
    }
   ],
   "source": []
  },
  {
   "cell_type": "markdown",
   "metadata": {
    "id": "WgtA_596SWOJ"
   },
   "source": [
    "## 5. Reshaping\n",
    "\n",
    "Reference:-https://www.youtube.com/watch?v=sGCuryS8zjc"
   ]
  },
  {
   "cell_type": "markdown",
   "metadata": {
    "id": "8JrudG-OSWOK"
   },
   "source": [
    "<p style='text-align: right;'> 4+1 = 5 points</p>\n"
   ]
  },
  {
   "cell_type": "markdown",
   "metadata": {
    "id": "KFJGt401SWOK"
   },
   "source": [
    "Use np.arange to create  a numpy array with values between 0 to 23"
   ]
  },
  {
   "cell_type": "code",
   "execution_count": null,
   "metadata": {
    "id": "68_PQMLhSWOK",
    "outputId": "2e9d1acd-5c49-4d67-97b8-d3394db17dbd"
   },
   "outputs": [
    {
     "name": "stdout",
     "output_type": "stream",
     "text": [
      "[ 0  1  2  3  4  5  6  7  8  9 10 11 12 13 14 15 16 17 18 19 20 21 22 23]\n"
     ]
    }
   ],
   "source": [
    "a = #your code here \n",
    "\n",
    "print(a)"
   ]
  },
  {
   "cell_type": "code",
   "execution_count": null,
   "metadata": {
    "id": "rutZXqrgSWOK",
    "outputId": "ddcca75e-5846-4cc9-cb8b-651aa7d1b4ae"
   },
   "outputs": [
    {
     "name": "stdout",
     "output_type": "stream",
     "text": [
      "(24,)\n"
     ]
    }
   ],
   "source": [
    "# print the shape of a\n",
    "\n"
   ]
  },
  {
   "cell_type": "markdown",
   "metadata": {
    "id": "yWof93oOSWOK"
   },
   "source": [
    "Using a suitable method, reshape a to have a dimension of (3,8). Print b and its shape\n"
   ]
  },
  {
   "cell_type": "code",
   "execution_count": null,
   "metadata": {
    "id": "mf-Lhf32SWOK",
    "outputId": "0af46f34-c075-4457-9f22-bbb4f8a888c3"
   },
   "outputs": [
    {
     "name": "stdout",
     "output_type": "stream",
     "text": [
      "(3, 8)\n",
      "[[ 0  1  2  3  4  5  6  7]\n",
      " [ 8  9 10 11 12 13 14 15]\n",
      " [16 17 18 19 20 21 22 23]]\n"
     ]
    }
   ],
   "source": [
    "b = #your code here\n",
    "\n"
   ]
  },
  {
   "cell_type": "markdown",
   "metadata": {
    "id": "bpv6_fORSWOK"
   },
   "source": [
    "Create another numpy array c  = a.reshape(2,-1)"
   ]
  },
  {
   "cell_type": "code",
   "execution_count": null,
   "metadata": {
    "id": "dl2Te2lOSWOK"
   },
   "outputs": [],
   "source": [
    "c = # your code here\n"
   ]
  },
  {
   "cell_type": "code",
   "execution_count": null,
   "metadata": {
    "id": "EBlXv2KOSWOK",
    "outputId": "033bd078-ea4e-4ba4-f411-c4fdd5b64144"
   },
   "outputs": [
    {
     "name": "stdout",
     "output_type": "stream",
     "text": [
      "[[ 0  1  2  3  4  5  6  7  8  9 10 11]\n",
      " [12 13 14 15 16 17 18 19 20 21 22 23]]\n"
     ]
    }
   ],
   "source": [
    "#print c\n"
   ]
  },
  {
   "cell_type": "markdown",
   "metadata": {
    "id": "VHj6vhE4SWOK"
   },
   "source": [
    "Print the shape of c."
   ]
  },
  {
   "cell_type": "code",
   "execution_count": null,
   "metadata": {
    "id": "umf-FBnjSWOL",
    "outputId": "fb1de55e-5d1a-4ae9-b830-d2d7832e513e"
   },
   "outputs": [
    {
     "data": {
      "text/plain": [
       "(2, 12)"
      ]
     },
     "execution_count": 180,
     "metadata": {
      "tags": []
     },
     "output_type": "execute_result"
    }
   ],
   "source": []
  },
  {
   "cell_type": "markdown",
   "metadata": {
    "id": "_7gY7V1uSWOL"
   },
   "source": [
    "<b>Hey check above, what role -1 has played in reshape function. Don't worry</b>\n",
    "<b> ok let me tell you this fun fact</b>\n",
    "\n",
    "When using a -1, the dimension corresponding to the -1 will be the product of the dimensions of the original array divided by the product of the dimensions given to reshape so as to maintain the same number of elements"
   ]
  },
  {
   "cell_type": "markdown",
   "metadata": {
    "id": "TUKBsMr1SWOL"
   },
   "source": [
    "________"
   ]
  },
  {
   "cell_type": "markdown",
   "metadata": {
    "id": "IogwEn0vSWOL"
   },
   "source": [
    "## 6. Accessing numpy arrays\n",
    "\n",
    "Reference:-https://www.youtube.com/watch?v=y7kcnPy-NtQ\n"
   ]
  },
  {
   "cell_type": "markdown",
   "metadata": {
    "id": "K2G-LU3OSWOL"
   },
   "source": [
    "<p style='text-align: right;'> 6 points</p>\n"
   ]
  },
  {
   "cell_type": "markdown",
   "metadata": {
    "id": "uOFxxqopSWOL"
   },
   "source": [
    "### Create an array, a = np.array([2,4,6,8,10,12,14,16])\n",
    "\n",
    "\n"
   ]
  },
  {
   "cell_type": "code",
   "execution_count": null,
   "metadata": {
    "id": "DxG862oISWOL"
   },
   "outputs": [],
   "source": [
    "# code here\n"
   ]
  },
  {
   "cell_type": "code",
   "execution_count": null,
   "metadata": {
    "id": "hzVM35FdSWOL",
    "outputId": "61b98aca-3421-4099-a940-a9613d4d3eea"
   },
   "outputs": [
    {
     "data": {
      "text/plain": [
       "array([ 2,  4,  6,  8, 10, 12, 14, 16])"
      ]
     },
     "execution_count": 2,
     "metadata": {
      "tags": []
     },
     "output_type": "execute_result"
    }
   ],
   "source": [
    "# print a\n"
   ]
  },
  {
   "cell_type": "markdown",
   "metadata": {
    "id": "F44FbqlnSWOL"
   },
   "source": [
    "<b>Using indexing and slicing, select the following mentioned subsets - </b>"
   ]
  },
  {
   "cell_type": "code",
   "execution_count": null,
   "metadata": {
    "id": "edBnS1mYSWOL",
    "outputId": "76de2634-3342-4967-9766-ad32bb0897dd"
   },
   "outputs": [
    {
     "name": "stdout",
     "output_type": "stream",
     "text": [
      "4\n"
     ]
    }
   ],
   "source": [
    "# [4]\n",
    "#code here\n"
   ]
  },
  {
   "cell_type": "code",
   "execution_count": null,
   "metadata": {
    "id": "wffCWC_7SWOM",
    "outputId": "8f4c1a2d-a696-4747-985b-4533895028dc"
   },
   "outputs": [
    {
     "data": {
      "text/plain": [
       "array([ 4,  8, 12])"
      ]
     },
     "execution_count": 5,
     "metadata": {
      "tags": []
     },
     "output_type": "execute_result"
    }
   ],
   "source": [
    "#[4, 8, 12]\n"
   ]
  },
  {
   "cell_type": "code",
   "execution_count": null,
   "metadata": {
    "id": "UW_ilvvMSWOM",
    "outputId": "871c75f6-4213-4928-e9bc-a2e17c7a81cc"
   },
   "outputs": [
    {
     "data": {
      "text/plain": [
       "array([10, 12, 14, 16])"
      ]
     },
     "execution_count": 185,
     "metadata": {
      "tags": []
     },
     "output_type": "execute_result"
    }
   ],
   "source": [
    "# [10, 12, 14, 16]\n"
   ]
  },
  {
   "cell_type": "code",
   "execution_count": null,
   "metadata": {
    "id": "qOIoxS2dSWON",
    "outputId": "498661c7-7403-4665-982c-14d5f622a70d"
   },
   "outputs": [
    {
     "data": {
      "text/plain": [
       "array([14, 16])"
      ]
     },
     "execution_count": 186,
     "metadata": {
      "tags": []
     },
     "output_type": "execute_result"
    }
   ],
   "source": [
    "# [14, 16]\n"
   ]
  },
  {
   "cell_type": "code",
   "execution_count": null,
   "metadata": {
    "id": "xS2D4k3kSWON",
    "outputId": "4f91c0fb-3f62-45c2-e1ca-99e5f1e39ae0"
   },
   "outputs": [
    {
     "data": {
      "text/plain": [
       "array([ 2,  6, 10, 14])"
      ]
     },
     "execution_count": 187,
     "metadata": {
      "tags": []
     },
     "output_type": "execute_result"
    }
   ],
   "source": [
    "# [2, 6, 10, 14]\n"
   ]
  },
  {
   "cell_type": "markdown",
   "metadata": {
    "id": "AmVusL7eSWON"
   },
   "source": [
    "## 7. Transposing\n",
    "\n",
    "Reference:-https://www.youtube.com/watch?v=oNjX7nzFzrc"
   ]
  },
  {
   "cell_type": "markdown",
   "metadata": {
    "id": "S8CvY0RHSWON"
   },
   "source": [
    "<p style='text-align: right;'> 4 points</p>\n"
   ]
  },
  {
   "cell_type": "markdown",
   "metadata": {
    "id": "tpocLxgESWON"
   },
   "source": [
    "Create an array a = np.array([ [1, 2, 3], [4, 5, 6], [7,8,9], [10,11,12] ] )\n"
   ]
  },
  {
   "cell_type": "code",
   "execution_count": null,
   "metadata": {
    "id": "W37XRe4kSWON"
   },
   "outputs": [],
   "source": []
  },
  {
   "cell_type": "markdown",
   "metadata": {
    "id": "KmpGupqSSWON"
   },
   "source": [
    "What is the shape of a?"
   ]
  },
  {
   "cell_type": "code",
   "execution_count": null,
   "metadata": {
    "id": "2WGdXG21SWON",
    "outputId": "41b7e2ab-7d2a-44c1-b61b-227f0b178140"
   },
   "outputs": [
    {
     "data": {
      "text/plain": [
       "(4, 3)"
      ]
     },
     "execution_count": 189,
     "metadata": {
      "tags": []
     },
     "output_type": "execute_result"
    }
   ],
   "source": []
  },
  {
   "cell_type": "markdown",
   "metadata": {
    "id": "XN0eBL0dSWON"
   },
   "source": [
    "### Create another array b which is transpose of a"
   ]
  },
  {
   "cell_type": "code",
   "execution_count": null,
   "metadata": {
    "id": "KDK062tTSWON"
   },
   "outputs": [],
   "source": []
  },
  {
   "cell_type": "markdown",
   "metadata": {
    "id": "6-undzUeSWON"
   },
   "source": [
    "Print b and its shape"
   ]
  },
  {
   "cell_type": "code",
   "execution_count": null,
   "metadata": {
    "id": "A0G1sELiSWOO",
    "outputId": "bd8864c6-bcf5-4b5d-8fed-a87663e521e2"
   },
   "outputs": [
    {
     "name": "stdout",
     "output_type": "stream",
     "text": [
      "[[ 1  4  7 10]\n",
      " [ 2  5  8 11]\n",
      " [ 3  6  9 12]]\n"
     ]
    },
    {
     "data": {
      "text/plain": [
       "(3, 4)"
      ]
     },
     "execution_count": 191,
     "metadata": {
      "tags": []
     },
     "output_type": "execute_result"
    }
   ],
   "source": []
  },
  {
   "cell_type": "markdown",
   "metadata": {
    "id": "KLRfAU46SWOO"
   },
   "source": [
    "## 8. Mathematical Operations\n",
    "\n",
    "Reference:-https://www.youtube.com/watch?v=17vysCjwjxc"
   ]
  },
  {
   "cell_type": "markdown",
   "metadata": {
    "id": "VApF9heUSWOO"
   },
   "source": [
    "<p style='text-align: right;'> 8 points</p>\n"
   ]
  },
  {
   "cell_type": "markdown",
   "metadata": {
    "id": "GcQsUIeBSWOO"
   },
   "source": [
    "### Complete the following tasks given in comment using numpy function."
   ]
  },
  {
   "cell_type": "code",
   "execution_count": null,
   "metadata": {
    "id": "GxwrZvWXSWOO",
    "outputId": "ad1c3695-e6c9-4ca8-a1f8-b1f42cd02693"
   },
   "outputs": [
    {
     "name": "stdout",
     "output_type": "stream",
     "text": [
      "[0 1 2 3 4 5 6 7 8 9]\n"
     ]
    }
   ],
   "source": [
    "# complete your tasks here\n",
    "\n",
    "# Create an array, a = np.arange(10) and print a\n",
    "\n"
   ]
  },
  {
   "cell_type": "code",
   "execution_count": null,
   "metadata": {
    "id": "aegnP381SWOO",
    "outputId": "707b27ae-fd1a-4d3c-a135-baaf07801d3b"
   },
   "outputs": [
    {
     "data": {
      "text/plain": [
       "array([ 0.        ,  0.84147098,  0.90929743,  0.14112001, -0.7568025 ,\n",
       "       -0.95892427, -0.2794155 ,  0.6569866 ,  0.98935825,  0.41211849])"
      ]
     },
     "execution_count": 193,
     "metadata": {
      "tags": []
     },
     "output_type": "execute_result"
    }
   ],
   "source": [
    "# Find sin value of a\n",
    "\n"
   ]
  },
  {
   "cell_type": "code",
   "execution_count": null,
   "metadata": {
    "id": "-55RPoQKSWOO",
    "outputId": "4101f138-6879-491b-eb68-dc9535130ac4"
   },
   "outputs": [
    {
     "data": {
      "text/plain": [
       "array([ 1.        ,  0.54030231, -0.41614684, -0.9899925 , -0.65364362,\n",
       "        0.28366219,  0.96017029,  0.75390225, -0.14550003, -0.91113026])"
      ]
     },
     "execution_count": 194,
     "metadata": {
      "tags": []
     },
     "output_type": "execute_result"
    }
   ],
   "source": [
    "# Find cos value a\n"
   ]
  },
  {
   "cell_type": "code",
   "execution_count": null,
   "metadata": {
    "id": "7AnAi2gSSWOO",
    "outputId": "958b9273-9032-4568-fd14-8275b57b1e29"
   },
   "outputs": [
    {
     "data": {
      "text/plain": [
       "array([1.00000000e+00, 2.71828183e+00, 7.38905610e+00, 2.00855369e+01,\n",
       "       5.45981500e+01, 1.48413159e+02, 4.03428793e+02, 1.09663316e+03,\n",
       "       2.98095799e+03, 8.10308393e+03])"
      ]
     },
     "execution_count": 195,
     "metadata": {
      "tags": []
     },
     "output_type": "execute_result"
    }
   ],
   "source": [
    "# Find exponential of all the values in a.\n",
    "\n"
   ]
  },
  {
   "cell_type": "code",
   "execution_count": null,
   "metadata": {
    "id": "tdztKHB0SWOO",
    "outputId": "99d69114-01d7-4e6b-d34e-a7d0267054fb"
   },
   "outputs": [
    {
     "data": {
      "text/plain": [
       "45"
      ]
     },
     "execution_count": 196,
     "metadata": {
      "tags": []
     },
     "output_type": "execute_result"
    }
   ],
   "source": [
    "# Find the sum of all the values in a.\n",
    "\n"
   ]
  },
  {
   "cell_type": "code",
   "execution_count": null,
   "metadata": {
    "id": "C5huet7ISWOO",
    "outputId": "abb64e6b-ff18-47ba-d1de-b7bc662106db"
   },
   "outputs": [
    {
     "data": {
      "text/plain": [
       "4.5"
      ]
     },
     "execution_count": 197,
     "metadata": {
      "tags": []
     },
     "output_type": "execute_result"
    }
   ],
   "source": [
    "# Find the median value in a.\n",
    "\n"
   ]
  },
  {
   "cell_type": "code",
   "execution_count": null,
   "metadata": {
    "id": "LofLw2QTSWOP",
    "outputId": "b81f3974-2ab3-4012-b09a-92f4a50f3a51"
   },
   "outputs": [
    {
     "data": {
      "text/plain": [
       "9"
      ]
     },
     "execution_count": 198,
     "metadata": {
      "tags": []
     },
     "output_type": "execute_result"
    }
   ],
   "source": [
    "#Find the max value of a\n",
    "\n"
   ]
  },
  {
   "cell_type": "code",
   "execution_count": null,
   "metadata": {
    "id": "5-xFPjQkSWOP",
    "outputId": "b4c3b58f-85f3-494c-f29c-d0bd73dd1634"
   },
   "outputs": [
    {
     "data": {
      "text/plain": [
       "0"
      ]
     },
     "execution_count": 199,
     "metadata": {
      "tags": []
     },
     "output_type": "execute_result"
    }
   ],
   "source": [
    "#Find the min value of a\n",
    "\n"
   ]
  },
  {
   "cell_type": "code",
   "execution_count": null,
   "metadata": {
    "id": "jQUFfKumSWOP",
    "outputId": "ee3221e0-1db0-4b69-c5f8-acacc8383639"
   },
   "outputs": [
    {
     "data": {
      "text/plain": [
       "9"
      ]
     },
     "execution_count": 200,
     "metadata": {
      "tags": []
     },
     "output_type": "execute_result"
    }
   ],
   "source": [
    "# Find the index of the maximum element in a\n",
    "\n"
   ]
  },
  {
   "cell_type": "markdown",
   "metadata": {
    "id": "klrqGOR4SWOP"
   },
   "source": [
    "## 9. Hstack and vstack\n",
    "\n",
    "Reference: https://www.youtube.com/watch?v=ksqPbrS-b78"
   ]
  },
  {
   "cell_type": "markdown",
   "metadata": {
    "id": "EUa4BjRdSWOP"
   },
   "source": [
    "<p style='text-align: right;'> 1 + 1 + 2 + 2 = 6 points</p>\n"
   ]
  },
  {
   "cell_type": "markdown",
   "metadata": {
    "id": "tUWPiRjDSWOP"
   },
   "source": [
    "Create a = np.array( [ [1, 2, 3], [ 4, 5, 6], [7 ,8, 9] ]) and print a."
   ]
  },
  {
   "cell_type": "code",
   "execution_count": null,
   "metadata": {
    "id": "uzZal11ESWOP",
    "outputId": "e52f4ade-ed0e-4407-8f07-5709863d5fc9"
   },
   "outputs": [
    {
     "name": "stdout",
     "output_type": "stream",
     "text": [
      "[[1 2 3]\n",
      " [4 5 6]\n",
      " [7 8 9]]\n"
     ]
    }
   ],
   "source": []
  },
  {
   "cell_type": "markdown",
   "metadata": {
    "id": "sljZguKHSWOP"
   },
   "source": [
    "Create b = np.array( [ [10, 11, 12] , [13,14,15], [16, 17, 18] ]) and print b\n"
   ]
  },
  {
   "cell_type": "code",
   "execution_count": null,
   "metadata": {
    "id": "yG25YIeSSWOP",
    "outputId": "bf77978b-d1db-403f-94e9-8c76f54dc050"
   },
   "outputs": [
    {
     "name": "stdout",
     "output_type": "stream",
     "text": [
      "[[10 11 12]\n",
      " [13 14 15]\n",
      " [16 17 18]]\n"
     ]
    }
   ],
   "source": []
  },
  {
   "cell_type": "markdown",
   "metadata": {
    "id": "sqFsK83KSWOP"
   },
   "source": [
    "Create a new array c stacking a and b horizontally, print the values and shape of this array."
   ]
  },
  {
   "cell_type": "code",
   "execution_count": null,
   "metadata": {
    "id": "YJ-pyQPaSWOQ",
    "outputId": "fde8d018-bae9-46da-efe6-c65901d7a3cb"
   },
   "outputs": [
    {
     "name": "stdout",
     "output_type": "stream",
     "text": [
      "[[ 1  2  3 10 11 12]\n",
      " [ 4  5  6 13 14 15]\n",
      " [ 7  8  9 16 17 18]]\n",
      "(3, 6)\n"
     ]
    }
   ],
   "source": []
  },
  {
   "cell_type": "markdown",
   "metadata": {
    "id": "P0IyLJMXSWOQ"
   },
   "source": [
    "Create a new array d stacking a and b vertically, print the values and shape of this array."
   ]
  },
  {
   "cell_type": "code",
   "execution_count": null,
   "metadata": {
    "id": "y8GyH4DkSWOQ",
    "outputId": "0cf37d08-ec28-4a75-cdbf-0cd664d133ba"
   },
   "outputs": [
    {
     "name": "stdout",
     "output_type": "stream",
     "text": [
      "[[ 1  2  3]\n",
      " [ 4  5  6]\n",
      " [ 7  8  9]\n",
      " [10 11 12]\n",
      " [13 14 15]\n",
      " [16 17 18]]\n",
      "(6, 3)\n"
     ]
    }
   ],
   "source": []
  },
  {
   "cell_type": "markdown",
   "metadata": {
    "id": "s-6JfmBfSWOQ"
   },
   "source": [
    "____________\n",
    "\n",
    "# Woohoo!!! you completed the 3rd milestone challenge too! Congratulations. \n",
    "\n",
    "\n",
    "\n",
    "____________"
   ]
  },
  {
   "cell_type": "markdown",
   "metadata": {
    "id": "CG6h_jBBkqhy"
   },
   "source": [
    "# FeedBack\n",
    "We hope you’ve enjoyed this course so far. We’re committed to helping you use AIforAll course to its full potential so you can grow with us. And that’s why we need your help in form of a feedback here\n",
    "\n",
    "We appreciate your time for your thoughtful comment below\n",
    "\n"
   ]
  },
  {
   "cell_type": "markdown",
   "metadata": {
    "id": "ZsAhtyGBSWOQ"
   },
   "source": [
    "Space to comment:\n",
    "\n",
    "<br>"
   ]
  },
  {
   "cell_type": "markdown",
   "metadata": {
    "id": "t1pNUr6OSWOQ"
   },
   "source": [
    "**Rate the following in the scale of 1 to 10**"
   ]
  },
  {
   "cell_type": "markdown",
   "metadata": {
    "id": "Z21xk0eg7o40"
   },
   "source": [
    "Assignment Difficulty Level"
   ]
  },
  {
   "cell_type": "markdown",
   "metadata": {
    "id": "2BNiAaWG8ghA"
   },
   "source": [
    "**Rate**:"
   ]
  },
  {
   "cell_type": "markdown",
   "metadata": {
    "id": "fcxokRVa8R7m"
   },
   "source": [
    "Question Clarity Level"
   ]
  },
  {
   "cell_type": "markdown",
   "metadata": {
    "id": "QFLtqPmL9eW2"
   },
   "source": [
    "**Rate**:"
   ]
  },
  {
   "cell_type": "markdown",
   "metadata": {
    "id": "C6MvTJRa8hjl"
   },
   "source": [
    "YouTube video content quality."
   ]
  },
  {
   "cell_type": "markdown",
   "metadata": {
    "id": "W0UjeozA8ZQ3"
   },
   "source": [
    "**Rate**"
   ]
  },
  {
   "cell_type": "code",
   "execution_count": null,
   "metadata": {
    "id": "AWAXGa-bSWOR"
   },
   "outputs": [],
   "source": []
  }
 ],
 "metadata": {
  "colab": {
   "collapsed_sections": [
    "yPgBLrnFSWOI",
    "WgtA_596SWOJ",
    "IogwEn0vSWOL",
    "uOFxxqopSWOL",
    "AmVusL7eSWON",
    "XN0eBL0dSWON",
    "KLRfAU46SWOO",
    "GcQsUIeBSWOO",
    "klrqGOR4SWOP"
   ],
   "name": "Numpy.ipynb",
   "provenance": []
  },
  "kernelspec": {
   "display_name": "Python 3",
   "language": "python",
   "name": "python3"
  },
  "language_info": {
   "codemirror_mode": {
    "name": "ipython",
    "version": 3
   },
   "file_extension": ".py",
   "mimetype": "text/x-python",
   "name": "python",
   "nbconvert_exporter": "python",
   "pygments_lexer": "ipython3",
   "version": "3.8.2"
  }
 },
 "nbformat": 4,
 "nbformat_minor": 5
}
